{
 "cells": [
  {
   "cell_type": "code",
   "execution_count": null,
   "metadata": {},
   "outputs": [],
   "source": [
    "# draw heatmap of accuracy of best SVM model\n",
    "import seaborn as sns\n",
    "import matplotlib.pyplot as plt\n",
    "from sklearn.metrics import confusion_matrix\n",
    "import numpy as np\n",
    "import pandas as pd\n",
    "\n",
    "cm = [[3484, 18],[0, 3644]]\n",
    "# cm = cm transpose\n",
    "cm = np.array(cm)\n",
    "# cm = cm.transpose()\n",
    "print(cm)\n",
    "# Show original number instead of scientific notation\n",
    "# save the plot\n",
    "import matplotlib.pyplot as plt\n",
    "index = [\"no_diabetes\", \"diabetes\"]\n",
    "columns = [\"no_diabetes\", \"diabetes\"]\n",
    "# change 0, 1 into \"no_diabetes\", \"diabetes\"\n",
    "cm_df = pd.DataFrame(cm, columns, index)\n",
    "plt.figure(figsize=(8, 6))\n",
    "sns.heatmap(cm_df, annot=True, fmt = 'd')\n",
    "plt.title('Confusion Matrix')\n",
    "plt.xlabel('Predicted')\n",
    "plt.ylabel('True Label')\n",
    "plt.savefig('heatmap/SVM_b3.png')\n",
    "\n",
    "# calculate f1 score from confusion matrix\n",
    "# calculate F1 score through confusion matrix, without y_test and y_pred, using macro average  \n",
    "import numpy as np\n",
    "\n",
    "# Replace this 2x2 array with your confusion matrix values\n",
    "# cm = np.array([[true_negative, false_negative],\n",
    "#                         [false_positive, true_positive]])\n",
    "\n",
    "# Calculate precision, recall, and F1 for each class\n",
    "precision_class0 = cm[0, 0] / np.sum(cm[0, :])\n",
    "recall_class0 = cm[0, 0] / np.sum(cm[:, 0])\n",
    "f1_class0 = 2 * (precision_class0 * recall_class0) / (precision_class0 + recall_class0)\n",
    "\n",
    "precision_class1 = cm[1, 1] / np.sum(cm[1, :])\n",
    "recall_class1 = cm[1, 1] / np.sum(cm[:, 1])\n",
    "f1_class1 = 2 * (precision_class1 * recall_class1) / (precision_class1 + recall_class1)\n",
    "\n",
    "# Calculate F1 Macro Score\n",
    "f1_macro = (f1_class0 + f1_class1) / 2\n",
    "print(\"F1 Macro Score:\", f1_macro)\n",
    "plt.show()"
   ]
  }
 ],
 "metadata": {
  "language_info": {
   "name": "python"
  }
 },
 "nbformat": 4,
 "nbformat_minor": 2
}
