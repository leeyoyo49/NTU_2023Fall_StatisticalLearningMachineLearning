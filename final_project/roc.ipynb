{
 "cells": [
  {
   "cell_type": "code",
   "execution_count": null,
   "metadata": {},
   "outputs": [],
   "source": [
    "# read ROC curve data from csv\n",
    "import pandas as pd\n",
    "import numpy as np\n",
    "import io\n",
    "# draw ROC curve\n",
    "from sklearn.metrics import roc_curve, auc\n",
    "import matplotlib.pyplot as plt\n",
    "\n",
    "# read ROC folder, get all csv files\n",
    "import os\n",
    "import glob\n",
    "import pandas as pd\n",
    "from sklearn.metrics import roc_curve, auc\n",
    "\n",
    "# read all files in ROC folder\n",
    "path = r'ROC'\n",
    "all_files = glob.glob(os.path.join(path, \"*.csv\"))\n",
    "print(all_files)\n",
    "\n",
    "for file in all_files:\n",
    "    # file = \"ROC/random_forest_b1.csv\"\n",
    "    # get only b1.csv only, can change to b2.csv to get b2 roc\n",
    "    print(file)\n",
    "    if file[-6:] != \"b1.csv\":\n",
    "        continue\n",
    "    if file[4:7] == \"SVM\":\n",
    "        continue\n",
    "\n",
    "    df = pd.read_csv(file)\n",
    "    y_prob = df['diabetes_prob']\n",
    "    y_prob = np.array(y_prob)\n",
    "    # adjust y_test value according to b1, b2\n",
    "    y_test = np.array(y_test)\n",
    "    y_test = y_test.reshape(-1, 1)\n",
    "    y_prob = y_prob.reshape(-1, 1)\n",
    "    fpr, tpr, thresholds = roc_curve(y_test, y_prob)\n",
    "    roc_auc = auc(fpr, tpr)\n",
    "    plt.figure()\n",
    "    lw = 2\n",
    "    plt.plot(fpr, tpr, color='darkorange', lw=lw, label='ROC curve (area = %0.3f)' % roc_auc)\n",
    "    plt.plot([0, 1], [0, 1], color='navy', lw=lw, linestyle='--')  # diagonal line\n",
    "    plt.xlim([0.0, 1.0])\n",
    "    plt.ylim([0.0, 1.05])\n",
    "    plt.xlabel('fpr')\n",
    "    plt.ylabel('tpr')\n",
    "    plt.title('ROC curve')\n",
    "    plt.text(0.7, 0.2, f'AUC = {format(roc_auc, \".3f\")}')\n",
    "    plt.savefig(file[:-4] + \".png\")\n",
    "\n"
   ]
  }
 ],
 "metadata": {
  "language_info": {
   "name": "python"
  }
 },
 "nbformat": 4,
 "nbformat_minor": 2
}
