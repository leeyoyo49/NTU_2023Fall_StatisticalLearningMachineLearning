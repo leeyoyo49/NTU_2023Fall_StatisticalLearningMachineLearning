{
 "cells": [
  {
   "cell_type": "markdown",
   "metadata": {},
   "source": [
    "讀取資料\n"
   ]
  },
  {
   "cell_type": "code",
   "execution_count": 1,
   "metadata": {},
   "outputs": [],
   "source": [
    "import pandas as pd\n",
    "import numpy as np\n",
    "\n",
    "df = pd.read_csv('diabetes_binary_1.csv')\n",
    "\n",
    "# df = pd.read_csv(\"diabetes_ver2.csv\")\n",
    "\n",
    "# standardize \"BMI\", \"GenHlth\", \"MentHlth\", \"PhysHlth\", \"Age\", \"Education\", \"Income\"\n",
    "df[\"BMI\"] = (df[\"BMI\"] - df[\"BMI\"].mean()) / df[\"BMI\"].std()\n",
    "df[\"GenHlth\"] = (df[\"GenHlth\"] - df[\"GenHlth\"].mean()) / df[\"GenHlth\"].std()\n",
    "df[\"MentHlth\"] = (df[\"MentHlth\"] - df[\"MentHlth\"].mean()) / df[\"MentHlth\"].std()\n",
    "df[\"PhysHlth\"] = (df[\"PhysHlth\"] - df[\"PhysHlth\"].mean()) / df[\"PhysHlth\"].std()\n",
    "df[\"Age\"] = (df[\"Age\"] - df[\"Age\"].mean()) / df[\"Age\"].std()\n",
    "df[\"Education\"] = (df[\"Education\"] - df[\"Education\"].mean()) / df[\"Education\"].std()\n",
    "df[\"Income\"] = (df[\"Income\"] - df[\"Income\"].mean()) / df[\"Income\"].std()\n",
    "\n",
    "\n",
    "train = df[df['fold'].isin(range(1, 8))]\n",
    "test = df[df['fold'] == 10]\n",
    "tune = df[df['fold'] == 8]\n",
    "\n",
    "train = train.drop(\"fold\", axis=1)\n",
    "test = test.drop(\"fold\", axis=1)\n",
    "tune = tune.drop(\"fold\", axis=1)\n",
    "\n",
    "\n",
    "x_train = train.drop(\"Diabetes_binary\", axis=1)\n",
    "y_train = train[\"Diabetes_binary\"]\n",
    "x_test = test.drop(\"Diabetes_binary\", axis=1)\n",
    "y_test = test[\"Diabetes_binary\"]\n",
    "x_tune = tune.drop(\"Diabetes_binary\", axis=1)\n",
    "y_tune = tune[\"Diabetes_binary\"]\n",
    "\n",
    "# standardize the data\n",
    "x_train = (x_train - x_train.mean()) / x_train.std()\n",
    "x_test = (x_test - x_test.mean()) / x_test.std()\n",
    "x_tune = (x_tune - x_tune.mean()) / x_tune.std()\n",
    "\n",
    "\n",
    "x_train = np.array(x_train)\n",
    "y_train = np.array(y_train)\n",
    "x_test = np.array(x_test)\n",
    "y_test = np.array(y_test)\n",
    "x_tune = np.array(x_tune)\n",
    "y_tune = np.array(y_tune)\n"
   ]
  },
  {
   "cell_type": "markdown",
   "metadata": {},
   "source": [
    "將最佳化的參數放入訓練"
   ]
  },
  {
   "cell_type": "code",
   "execution_count": 2,
   "metadata": {},
   "outputs": [
    {
     "data": {
      "text/plain": [
       "['svm_model1.pkl']"
      ]
     },
     "execution_count": 2,
     "metadata": {},
     "output_type": "execute_result"
    }
   ],
   "source": [
    "from sklearn import svm\n",
    "import joblib\n",
    "\n",
    "# Assuming you have already trained your SVM model\n",
    "clf = svm.SVC(kernel='linear', C=1, gamma='auto')\n",
    "clf.fit(x_train, y_train)\n",
    "\n",
    "# Save the trained model to a file\n",
    "joblib.dump(clf, 'svm_model1.pkl')\n"
   ]
  },
  {
   "cell_type": "markdown",
   "metadata": {},
   "source": [
    "看表現"
   ]
  },
  {
   "cell_type": "code",
   "execution_count": 3,
   "metadata": {},
   "outputs": [
    {
     "name": "stdout",
     "output_type": "stream",
     "text": [
      "Accuracy: 0.7527287993282955\n",
      "Precision: 0.7542630130574616\n",
      "Recall: 0.7518382940656148\n",
      "F1: 0.7518427524704868\n"
     ]
    }
   ],
   "source": [
    "from sklearn.metrics import accuracy_score, precision_score, recall_score, f1_score\n",
    "import joblib\n",
    "\n",
    "\n",
    "clf = joblib.load('svm_model1.pkl')\n",
    "y_pred = clf.predict(x_test)\n",
    "print(\"Accuracy:\", accuracy_score(y_test, y_pred))\n",
    "print(\"Precision:\", precision_score(y_test, y_pred, average='macro'))\n",
    "print(\"Recall:\", recall_score(y_test, y_pred, average='macro'))\n",
    "print(\"F1:\", f1_score(y_test, y_pred, average='macro'))\n"
   ]
  },
  {
   "cell_type": "markdown",
   "metadata": {},
   "source": [
    "取得各項weight"
   ]
  },
  {
   "cell_type": "code",
   "execution_count": 4,
   "metadata": {},
   "outputs": [
    {
     "name": "stdout",
     "output_type": "stream",
     "text": [
      "{'C': 1, 'break_ties': False, 'cache_size': 200, 'class_weight': None, 'coef0': 0.0, 'decision_function_shape': 'ovr', 'degree': 3, 'gamma': 'auto', 'kernel': 'linear', 'max_iter': -1, 'probability': False, 'random_state': None, 'shrinking': True, 'tol': 0.001, 'verbose': False}\n",
      "['HighBP', 'HighChol', 'CholCheck', 'BMI', 'Smoker', 'Stroke', 'HeartDiseaseorAttack', 'PhysActivity', 'Fruits', 'Veggies', 'HvyAlcoholConsump', 'AnyHealthcare', 'NoDocbcCost', 'GenHlth', 'MentHlth', 'PhysHlth', 'DiffWalk', 'Sex', 'Age', 'Education', 'Income']\n",
      "[[ 0.37600989  0.23360685  0.16440517  0.42047905  0.00693593  0.02225315\n",
      "   0.07594148 -0.01113205 -0.0006653  -0.02435445 -0.1453853   0.0102078\n",
      "   0.01260952  0.52453581 -0.03865735 -0.07761941  0.03586539  0.08747957\n",
      "   0.33052137 -0.02912478 -0.10850282]]\n",
      "[0.03919867]\n",
      "{'HighBP': 0.3760098949898172, 'HighChol': 0.23360684705362567, 'CholCheck': 0.164405174981042, 'BMI': 0.42047904800384583, 'Smoker': 0.006935928570898753, 'Stroke': 0.022253153079443422, 'HeartDiseaseorAttack': 0.07594148313321103, 'PhysActivity': -0.011132051262489062, 'Fruits': -0.0006653001656367064, 'Veggies': -0.0243544491467651, 'HvyAlcoholConsump': -0.1453852993067719, 'AnyHealthcare': 0.010207797403525898, 'NoDocbcCost': 0.012609520111009132, 'GenHlth': 0.5245358123204573, 'MentHlth': -0.03865734994473735, 'PhysHlth': -0.07761941350020574, 'DiffWalk': 0.03586539261396604, 'Sex': 0.08747956563723547, 'Age': 0.3305213699717854, 'Education': -0.02912477903049604, 'Income': -0.10850281664277617}\n"
     ]
    }
   ],
   "source": [
    "# get parameterns of best SVM model\n",
    "print(clf.get_params())\n",
    "\n",
    "# get weight of each feature of best SVM model, with the same order as in the dataset, and with feature names\n",
    "import pandas as pd\n",
    "import numpy as np\n",
    "\n",
    "df = pd.read_csv('diabetes_binary_1.csv')\n",
    "df = df.drop(\"fold\", axis=1)\n",
    "x_train = df.drop(\"Diabetes_binary\", axis=1)\n",
    "feature_names = list(x_train.columns.values)\n",
    "print(feature_names)\n",
    "print(clf.coef_)\n",
    "print(clf.intercept_)\n",
    "\n",
    "# map feature names to weights\n",
    "feature_weight = {}\n",
    "for i in range(len(feature_names)):\n",
    "    feature_weight[feature_names[i]] = clf.coef_[0][i]\n",
    "print(feature_weight)\n",
    "\n",
    "# save feature weights into csv\n",
    "import csv\n",
    "with open('feature_weight/SVM_b1.csv', 'w') as f:\n",
    "    writer = csv.writer(f)\n",
    "    for key, value in feature_weight.items():\n",
    "        writer.writerow([key, value])\n"
   ]
  },
  {
   "cell_type": "markdown",
   "metadata": {},
   "source": [
    "讀取b2資料"
   ]
  },
  {
   "cell_type": "code",
   "execution_count": 5,
   "metadata": {},
   "outputs": [],
   "source": [
    "import pandas as pd\n",
    "import numpy as np\n",
    "import io\n",
    "\n",
    "df = pd.read_csv('diabetes_binary_2.csv')\n",
    "\n",
    "# standardize \"BMI\", \"GenHlth\", \"MentHlth\", \"PhysHlth\", \"Age\", \"Education\", \"Income\"\n",
    "df[\"BMI\"] = (df[\"BMI\"] - df[\"BMI\"].mean()) / df[\"BMI\"].std()\n",
    "df[\"GenHlth\"] = (df[\"GenHlth\"] - df[\"GenHlth\"].mean()) / df[\"GenHlth\"].std()\n",
    "df[\"MentHlth\"] = (df[\"MentHlth\"] - df[\"MentHlth\"].mean()) / df[\"MentHlth\"].std()\n",
    "df[\"PhysHlth\"] = (df[\"PhysHlth\"] - df[\"PhysHlth\"].mean()) / df[\"PhysHlth\"].std()\n",
    "df[\"Age\"] = (df[\"Age\"] - df[\"Age\"].mean()) / df[\"Age\"].std()\n",
    "df[\"Education\"] = (df[\"Education\"] - df[\"Education\"].mean()) / df[\"Education\"].std()\n",
    "df[\"Income\"] = (df[\"Income\"] - df[\"Income\"].mean()) / df[\"Income\"].std()\n",
    "\n",
    "train = df[df['fold'].isin(range(1, 9))]\n",
    "test = df[df['fold'] == 10]\n",
    "\n",
    "train = train.drop(\"fold\", axis=1)\n",
    "test = test.drop(\"fold\", axis=1)\n",
    "\n",
    "x_train = train.drop(\"Diabetes_binary\", axis=1)\n",
    "y_train = train[\"Diabetes_binary\"]\n",
    "x_test = test.drop(\"Diabetes_binary\", axis=1)\n",
    "y_test = test[\"Diabetes_binary\"]\n",
    "\n",
    "x_train = np.array(x_train)\n",
    "y_train = np.array(y_train)\n",
    "x_test = np.array(x_test)\n",
    "y_test = np.array(y_test)"
   ]
  },
  {
   "cell_type": "markdown",
   "metadata": {},
   "source": [
    "將最佳化參數放入"
   ]
  },
  {
   "cell_type": "code",
   "execution_count": 7,
   "metadata": {},
   "outputs": [
    {
     "data": {
      "text/plain": [
       "['svm_model2.pkl']"
      ]
     },
     "execution_count": 7,
     "metadata": {},
     "output_type": "execute_result"
    }
   ],
   "source": [
    "from sklearn import svm\n",
    "import joblib\n",
    "\n",
    "# Assuming you have already trained your SVM model\n",
    "clf = svm.SVC(kernel='linear', C=0.1, gamma='auto')\n",
    "clf.fit(x_train, y_train)\n",
    "\n",
    "# Save the trained model to a file\n",
    "joblib.dump(clf, 'svm_model2.pkl')\n"
   ]
  },
  {
   "cell_type": "markdown",
   "metadata": {},
   "source": [
    "看表現"
   ]
  },
  {
   "cell_type": "code",
   "execution_count": 9,
   "metadata": {},
   "outputs": [
    {
     "name": "stdout",
     "output_type": "stream",
     "text": [
      "Accuracy: 0.8639001510453931\n",
      "Precision: 0.43195007552269654\n",
      "Recall: 0.5\n",
      "F1: 0.4634905740851318\n"
     ]
    },
    {
     "name": "stderr",
     "output_type": "stream",
     "text": [
      "/Users/yl/Library/Caches/pypoetry/virtualenvs/slml-JC0Nopl2-py3.11/lib/python3.11/site-packages/sklearn/metrics/_classification.py:1469: UndefinedMetricWarning: Precision is ill-defined and being set to 0.0 in labels with no predicted samples. Use `zero_division` parameter to control this behavior.\n",
      "  _warn_prf(average, modifier, msg_start, len(result))\n"
     ]
    }
   ],
   "source": [
    "from sklearn.metrics import accuracy_score, precision_score, recall_score, f1_score\n",
    "import joblib\n",
    "\n",
    "\n",
    "clf = joblib.load('svm_model2.pkl')\n",
    "y_pred = clf.predict(x_test)\n",
    "print(\"Accuracy:\", accuracy_score(y_test, y_pred))\n",
    "print(\"Precision:\", precision_score(y_test, y_pred, average='macro'))\n",
    "print(\"Recall:\", recall_score(y_test, y_pred, average='macro'))\n",
    "print(\"F1:\", f1_score(y_test, y_pred, average='macro'))"
   ]
  }
 ],
 "metadata": {
  "kernelspec": {
   "display_name": "slml-JC0Nopl2-py3.11",
   "language": "python",
   "name": "python3"
  },
  "language_info": {
   "codemirror_mode": {
    "name": "ipython",
    "version": 3
   },
   "file_extension": ".py",
   "mimetype": "text/x-python",
   "name": "python",
   "nbconvert_exporter": "python",
   "pygments_lexer": "ipython3",
   "version": "3.11.3"
  }
 },
 "nbformat": 4,
 "nbformat_minor": 2
}
