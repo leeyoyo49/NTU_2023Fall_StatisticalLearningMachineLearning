{
 "cells": [
  {
   "cell_type": "markdown",
   "metadata": {},
   "source": [
    "### 統計學習與深度學習\n",
    "### Homework 5 (Kaggle Competition + IPYNB Report)\n",
    "\n",
    "本次作業計畫讓大家練習影像分類的問題。每個人須將預測結果上傳至Kaggle，並將你方法執行的細節上傳至NTU COOL (IPYNB + HTML)。作業成績將會由Kaggle 排名 (70%)與繳交的IPYNB+HTML檔案內容 (30%)共同決定，分類預測結果需由繳交的code去產生，請誠實作答。作業自己做。嚴禁抄襲。不接受紙本繳交，不接受遲交。請以英文或中文作答。\n",
    "\n",
    "影像分類是CNN模型的強項，我們的任務是區分照片中主角穿著類型，共區分成4種類別。這個問題在不同的情境下有不同的難度。在`Dive into Deep Learning`中有類似的問題，但是處理較\"乾淨\"的影像。這次作業的資料來自街拍影像，因此分類的困難度較高。\n",
    "\n",
    "所有照片資料皆存放在`photos`資料夾當中。\n",
    "\n",
    "`id_filename.txt`列出所有資料的id與檔名，並以逗號區隔。例如:\n",
    "```\n",
    "0,20190103082954015_500.jpg\n",
    "1,20180727085751704_500.jpg\n",
    "2,20180727145746586_500.jpg\n",
    "```\n",
    "\n",
    "`training_class.txt`中列出訓練資料的檔名與類別(類別以1~4代表)，並以逗號區隔。例如:\n",
    "```\n",
    "20170801213856270_500.jpg,2\n",
    "20191103132929063_500.jpg,3\n",
    "20191027153729784_500.jpg,1\n",
    "```\n",
    "\n",
    "未在訓練資料中的檔名，皆做為測試集(test set)。\n",
    "\n"
   ]
  },
  {
   "cell_type": "markdown",
   "metadata": {},
   "source": [
    "## 任務\n",
    "\n",
    "### Q1 (70%)\n",
    "建構圖片分類模型。使用上述的訓練資料去訓練模型，預測所有測試集資料的類別。  \n",
    "請輸出測試集的結果，上傳csv檔到Kaggle，只能有 id 跟 label 欄位，且須包含表頭，否則無法上傳成功，請參考以下範例：  \n",
    "| id | label |\n",
    "|----------|----------|\n",
    "| 0    | 1   |\n",
    "| 1    | 1   |\n",
    "| 2    | 2   |  \n",
    "\n",
    "每天有3次上傳檔案的機會，上傳後Kaggle會顯示accuracy之結果。 ***另外，請大家在Kaggle的team name設定為自己的學號。***  \n",
    "  \n",
    "\n",
    "提示:\n",
    "* 你可以自行選用各種CNN Backbone。\n",
    "* 可使用隨機水平翻轉(Horizontal Flip)、隨機旋轉(Random Rotation)等Data augmentation方式，改善分類表現。\n",
    "* 可嘗試考慮SGD與ADAM等最佳化演算法，嘗試各種Learning Rate與其他Hyper-parameters。\n",
    "* 請從training set中，自行分出10%~15%的資料作為validation set，調整模型參數以找出你的最佳模型。 \n",
    "\n",
    "\n",
    "### Q2 (30%)\n",
    "使用你表現最好的模型設定，畫出Training與Validation Loss，以及Training與Validation Accuracy，隨著Epoch變化的狀況。\n",
    "\n",
    "\n"
   ]
  },
  {
   "cell_type": "code",
   "execution_count": 31,
   "metadata": {},
   "outputs": [],
   "source": [
    "import numpy as np\n",
    "import matplotlib.pyplot as plt\n",
    "import pandas as pd\n",
    "import csv\n",
    "import os\n",
    "from PIL import Image\n",
    "\n",
    "import optuna\n",
    "from optuna import Trial\n",
    "\n",
    "import torch\n",
    "import torch.nn as nn\n",
    "import torch.optim as optim\n",
    "from torch.utils.data import DataLoader, Dataset\n",
    "from torchvision.datasets import ImageFolder\n",
    "from torchvision import transforms, datasets\n",
    "from torch.utils.data import DataLoader, random_split\n",
    "from sklearn.model_selection import ParameterGrid\n",
    "import torch.nn.functional as F\n",
    "from torchvision.models import resnet18, resnet34, resnet50, resnet101, resnet152\n",
    "from tqdm import tqdm\n",
    "\n",
    "\n",
    "device = torch.device(\"cuda:0\" if torch.cuda.is_available() else \"cpu\")\n"
   ]
  },
  {
   "cell_type": "markdown",
   "metadata": {},
   "source": [
    "# Read Data"
   ]
  },
  {
   "cell_type": "code",
   "execution_count": 32,
   "metadata": {},
   "outputs": [],
   "source": [
    "# read training_class.txt\n",
    "training_class = pd.read_csv('training_class.txt', sep=\",\", header=None)\n",
    "training_class.columns = [\"filename\", \"class\"]    \n",
    "\n",
    "# read id_filename.txt, first column is index, hece drop it\n",
    "id_filename = pd.read_csv('id_filename.txt', sep=\",\", header=None)\n",
    "id_filename.drop(id_filename.columns[[0]], axis=1, inplace=True)\n",
    "id_filename.columns = [\"filename\"]\n",
    "\n",
    "# create a dictionary to map filename to id\n",
    "filename_id = {}\n",
    "for i in range(len(id_filename)):\n",
    "    filename_id[id_filename.iloc[i,0]] = i\n",
    "\n",
    "id_predict = []\n",
    "\n",
    "for file in id_filename[\"filename\"].values:\n",
    "    if file not in training_class[\"filename\"].values:\n",
    "        id_predict.append(file)\n",
    "\n",
    "id_predict = pd.DataFrame(id_predict, columns=[\"filename\"])"
   ]
  },
  {
   "cell_type": "markdown",
   "metadata": {},
   "source": [
    "# CNN Model\n",
    "\n",
    "我使用的是ResNet101這個CNN模型，並且有進行預訓練"
   ]
  },
  {
   "cell_type": "code",
   "execution_count": 29,
   "metadata": {},
   "outputs": [],
   "source": [
    "class CustomCNN(nn.Module):\n",
    "    def __init__(self, num_classes=4):\n",
    "        super(CustomCNN, self).__init__()\n",
    "        self.base_model = resnet101(pretrained=True)\n",
    "        in_features = self.base_model.fc.in_features\n",
    "        self.base_model.fc = nn.Linear(in_features, num_classes)\n",
    "\n",
    "    def forward(self, x):\n",
    "        return self.base_model(x)"
   ]
  },
  {
   "cell_type": "markdown",
   "metadata": {},
   "source": [
    "# Finding Best Hyperparameter\n",
    "\n",
    "接著我使用Oputna，一個用於超參數優化的 Python 庫，去尋找最佳的hyperparameter。\n",
    "\n",
    "我使用的是ADAM這個最佳化演算法。\n",
    "\n",
    "其中有三個參數有很大的影響，分別為'learning rate', 'batch size', 'weightdecay'\n",
    "\n",
    "因為大概5個batch就會收斂，所以每個trial我就給他跑5個batch去看他的表現。\n"
   ]
  },
  {
   "cell_type": "code",
   "execution_count": 14,
   "metadata": {},
   "outputs": [
    {
     "name": "stderr",
     "output_type": "stream",
     "text": [
      "[I 2023-12-27 23:03:56,313] A new study created in memory with name: no-name-8d41f5eb-7b24-473a-826f-412371cd25ff\n",
      "/var/folders/l8/cns8rbyx5y17d2vn6gf6qkk80000gn/T/ipykernel_61506/1902943265.py:14: FutureWarning: suggest_loguniform has been deprecated in v3.0.0. This feature will be removed in v6.0.0. See https://github.com/optuna/optuna/releases/tag/v3.0.0. Use suggest_float(..., log=True) instead.\n",
      "  lr = trial.suggest_loguniform('lr', 1e-5, 1e-1)\n",
      "/var/folders/l8/cns8rbyx5y17d2vn6gf6qkk80000gn/T/ipykernel_61506/1902943265.py:16: FutureWarning: suggest_loguniform has been deprecated in v3.0.0. This feature will be removed in v6.0.0. See https://github.com/optuna/optuna/releases/tag/v3.0.0. Use suggest_float(..., log=True) instead.\n",
      "  weight_Decay = trial.suggest_loguniform('weight_Decay', 1e-5, 1e-1)\n",
      "/Users/yl/Library/Caches/pypoetry/virtualenvs/html-qsiNAWFM-py3.10/lib/python3.10/site-packages/torchvision/models/_utils.py:208: UserWarning: The parameter 'pretrained' is deprecated since 0.13 and may be removed in the future, please use 'weights' instead.\n",
      "  warnings.warn(\n",
      "/Users/yl/Library/Caches/pypoetry/virtualenvs/html-qsiNAWFM-py3.10/lib/python3.10/site-packages/torchvision/models/_utils.py:223: UserWarning: Arguments other than a weight enum or `None` for 'weights' are deprecated since 0.13 and may be removed in the future. The current behavior is equivalent to passing `weights=ResNet18_Weights.IMAGENET1K_V1`. You can also use `weights=ResNet18_Weights.DEFAULT` to get the most up-to-date weights.\n",
      "  warnings.warn(msg)\n",
      "/Users/yl/Library/Caches/pypoetry/virtualenvs/html-qsiNAWFM-py3.10/lib/python3.10/site-packages/torchvision/transforms/functional.py:1603: UserWarning: The default value of the antialias parameter of all the resizing transforms (Resize(), RandomResizedCrop(), etc.) will change from None to True in v0.17, in order to be consistent across the PIL and Tensor backends. To suppress this warning, directly pass antialias=True (recommended, future default), antialias=None (current default, which means False for Tensors and True for PIL), or antialias=False (only works on Tensors - PIL will still use antialiasing). This also applies if you are using the inference transforms from the models weights: update the call to weights.transforms(antialias=True).\n",
      "  warnings.warn(\n"
     ]
    },
    {
     "name": "stdout",
     "output_type": "stream",
     "text": [
      "lr: 1.7187e-04, weight_decay: 2.5352e-03, batch_size: 32\n"
     ]
    },
    {
     "name": "stderr",
     "output_type": "stream",
     "text": [
      "[I 2023-12-27 23:12:19,607] Trial 0 finished with value: 1.0 and parameters: {'lr': 0.00017187084353515884, 'batch_size': 32, 'weight_Decay': 0.002535222000963198}. Best is trial 0 with value: 1.0.\n"
     ]
    },
    {
     "name": "stdout",
     "output_type": "stream",
     "text": [
      "Accuracy: 1.0000\n",
      "lr: 3.3623e-03, weight_decay: 1.7852e-03, batch_size: 64\n"
     ]
    },
    {
     "name": "stderr",
     "output_type": "stream",
     "text": [
      "[I 2023-12-27 23:20:37,246] Trial 1 finished with value: 0.7925326824188232 and parameters: {'lr': 0.0033622803703207776, 'batch_size': 64, 'weight_Decay': 0.0017851999559666712}. Best is trial 0 with value: 1.0.\n"
     ]
    },
    {
     "name": "stdout",
     "output_type": "stream",
     "text": [
      "Accuracy: 0.7925\n",
      "lr: 2.8325e-03, weight_decay: 1.2006e-02, batch_size: 32\n"
     ]
    },
    {
     "name": "stderr",
     "output_type": "stream",
     "text": [
      "[I 2023-12-27 23:28:31,328] Trial 2 finished with value: 0.6333128213882446 and parameters: {'lr': 0.0028325265006353267, 'batch_size': 32, 'weight_Decay': 0.012005596626777441}. Best is trial 0 with value: 1.0.\n"
     ]
    },
    {
     "name": "stdout",
     "output_type": "stream",
     "text": [
      "Accuracy: 0.6333\n",
      "lr: 3.1149e-03, weight_decay: 4.2969e-02, batch_size: 32\n"
     ]
    },
    {
     "name": "stderr",
     "output_type": "stream",
     "text": [
      "[I 2023-12-27 23:36:26,961] Trial 3 finished with value: 0.39562806487083435 and parameters: {'lr': 0.003114857195572061, 'batch_size': 32, 'weight_Decay': 0.042969293303970285}. Best is trial 0 with value: 1.0.\n"
     ]
    },
    {
     "name": "stdout",
     "output_type": "stream",
     "text": [
      "Accuracy: 0.3956\n",
      "lr: 5.3083e-04, weight_decay: 1.9723e-04, batch_size: 32\n"
     ]
    },
    {
     "name": "stderr",
     "output_type": "stream",
     "text": [
      "[I 2023-12-27 23:44:47,087] Trial 4 finished with value: 0.9657738208770752 and parameters: {'lr': 0.0005308283622314886, 'batch_size': 32, 'weight_Decay': 0.00019723332789133352}. Best is trial 0 with value: 1.0.\n"
     ]
    },
    {
     "name": "stdout",
     "output_type": "stream",
     "text": [
      "Accuracy: 0.9658\n",
      "Best Hyperparameters:\n",
      "lr: 0.00017187084353515884\n",
      "batch_size: 32\n",
      "weight_Decay: 0.002535222000963198\n"
     ]
    }
   ],
   "source": [
    "def objective(trial):\n",
    "    transform = transforms.Compose([\n",
    "    transforms.ToTensor(),\n",
    "    transforms.Resize((224, 224)),\n",
    "    transforms.Normalize(mean=[0.485, 0.456, 0.406], std=[0.229, 0.224, 0.225]),\n",
    "])\n",
    "\n",
    "    # Create a dataset using ImageFolder\n",
    "    train_dataset = datasets.ImageFolder(root='./data', transform=transform)\n",
    "\n",
    "    # Create a DataLoader\n",
    "    train_loader = DataLoader(train_dataset, batch_size=32, shuffle=True)\n",
    "    lr = trial.suggest_loguniform('lr', 1e-5, 1e-1)\n",
    "    batch_size = trial.suggest_categorical('batch_size', [16, 32, 64])\n",
    "    weight_Decay = trial.suggest_loguniform('weight_Decay', 1e-5, 1e-1)\n",
    "    \n",
    "    # Set the hyperparameters\n",
    "    model = CustomCNN(num_classes=4)\n",
    "    criterion = nn.CrossEntropyLoss()\n",
    "    optimizer = optim.Adam(model.parameters(), lr=lr, weight_decay=weight_Decay)\n",
    "    train_loader = DataLoader(train_dataset, batch_size=batch_size, shuffle=True)\n",
    "    \n",
    "    print(f\"lr: {lr:.4e}, weight_decay: {weight_Decay:.4e}, batch_size: {batch_size}\")\n",
    "    # Training loop\n",
    "    num_epochs = 5\n",
    "    for epoch in range(num_epochs):\n",
    "        model.train()\n",
    "        acc = 0\n",
    "        for inputs, labels in train_loader:\n",
    "            optimizer.zero_grad()\n",
    "            outputs = model(inputs)\n",
    "            loss = criterion(outputs, labels)\n",
    "            loss.backward()\n",
    "            optimizer.step()\n",
    "            acc += (outputs.argmax(dim=1) == labels).float().mean()\n",
    "\n",
    "    # Calculate the accuracy\n",
    "    accuracy = acc / len(train_loader)\n",
    "    print(f\"Accuracy: {accuracy:.4f}\")    \n",
    "    # Return the accuracy as the objective value\n",
    "    return accuracy\n",
    "\n",
    "# Create a study object and optimize the objective function\n",
    "study = optuna.create_study(direction='maximize')\n",
    "study.optimize(objective, n_trials=5)\n",
    "\n",
    "# Get the best hyperparameters\n",
    "best_params = study.best_params\n",
    "\n",
    "# Print the best hyperparameters\n",
    "print(\"Best Hyperparameters:\")\n",
    "for key, value in best_params.items():\n",
    "    print(f\"{key}: {value}\")\n",
    "\n",
    "# Best Hyperparameters:\n",
    "# lr: 0.00017187084353515884\n",
    "# batch_size: 32\n",
    "# weight_Decay: 0.002535222000963198"
   ]
  },
  {
   "cell_type": "markdown",
   "metadata": {},
   "source": [
    "# Train and eval with best hyperparameter\n",
    "\n",
    "最後將資料集分為90% training, 10% evaluation，並且使用剛剛找到的最佳參數進行訓練。\n",
    "\n",
    "然後我也有對於圖片進行一些預處理，首先是將圖片轉為tensor，接著講圖片resize成224,224可以去掉不重要的背景，最後進行normalize\n"
   ]
  },
  {
   "cell_type": "code",
   "execution_count": 33,
   "metadata": {},
   "outputs": [
    {
     "name": "stderr",
     "output_type": "stream",
     "text": [
      "/Users/yl/Library/Caches/pypoetry/virtualenvs/html-qsiNAWFM-py3.10/lib/python3.10/site-packages/torchvision/models/_utils.py:208: UserWarning: The parameter 'pretrained' is deprecated since 0.13 and may be removed in the future, please use 'weights' instead.\n",
      "  warnings.warn(\n",
      "/Users/yl/Library/Caches/pypoetry/virtualenvs/html-qsiNAWFM-py3.10/lib/python3.10/site-packages/torchvision/models/_utils.py:223: UserWarning: Arguments other than a weight enum or `None` for 'weights' are deprecated since 0.13 and may be removed in the future. The current behavior is equivalent to passing `weights=ResNet152_Weights.IMAGENET1K_V1`. You can also use `weights=ResNet152_Weights.DEFAULT` to get the most up-to-date weights.\n",
      "  warnings.warn(msg)\n",
      "Downloading: \"https://download.pytorch.org/models/resnet152-394f9c45.pth\" to /Users/yl/.cache/torch/hub/checkpoints/resnet152-394f9c45.pth\n",
      "100%|██████████| 230M/230M [00:21<00:00, 11.4MB/s] \n",
      "Epoch 1/10 (Training):   0%|          | 0/38 [00:00<?, ?it/s]/Users/yl/Library/Caches/pypoetry/virtualenvs/html-qsiNAWFM-py3.10/lib/python3.10/site-packages/torchvision/transforms/functional.py:1603: UserWarning: The default value of the antialias parameter of all the resizing transforms (Resize(), RandomResizedCrop(), etc.) will change from None to True in v0.17, in order to be consistent across the PIL and Tensor backends. To suppress this warning, directly pass antialias=True (recommended, future default), antialias=None (current default, which means False for Tensors and True for PIL), or antialias=False (only works on Tensors - PIL will still use antialiasing). This also applies if you are using the inference transforms from the models weights: update the call to weights.transforms(antialias=True).\n",
      "  warnings.warn(\n",
      "Epoch 1/10 (Training): 100%|██████████| 38/38 [14:06<00:00, 22.28s/it]\n",
      "Epoch 1/10 (Evaluation): 100%|██████████| 5/5 [00:41<00:00,  8.23s/it]\n"
     ]
    },
    {
     "name": "stdout",
     "output_type": "stream",
     "text": [
      "Epoch [1/10], Training Loss: 0.5365, Training Accuracy: 0.8221, Evaluation Loss: 0.4872, Evaluation Accuracy: 0.8054\n"
     ]
    },
    {
     "name": "stderr",
     "output_type": "stream",
     "text": [
      "Epoch 2/10 (Training): 100%|██████████| 38/38 [16:08<00:00, 25.50s/it]\n",
      "Epoch 2/10 (Evaluation): 100%|██████████| 5/5 [00:45<00:00,  9.04s/it]\n"
     ]
    },
    {
     "name": "stdout",
     "output_type": "stream",
     "text": [
      "Epoch [2/10], Training Loss: 0.1771, Training Accuracy: 0.9503, Evaluation Loss: 0.5774, Evaluation Accuracy: 0.8241\n"
     ]
    },
    {
     "name": "stderr",
     "output_type": "stream",
     "text": [
      "Epoch 3/10 (Training): 100%|██████████| 38/38 [19:31<00:00, 30.83s/it]\n",
      "Epoch 3/10 (Evaluation): 100%|██████████| 5/5 [01:18<00:00, 15.68s/it]\n"
     ]
    },
    {
     "name": "stdout",
     "output_type": "stream",
     "text": [
      "Epoch [3/10], Training Loss: 0.0812, Training Accuracy: 0.9762, Evaluation Loss: 0.6738, Evaluation Accuracy: 0.8679\n"
     ]
    },
    {
     "name": "stderr",
     "output_type": "stream",
     "text": [
      "Epoch 4/10 (Training): 100%|██████████| 38/38 [25:58<00:00, 41.02s/it]\n",
      "Epoch 4/10 (Evaluation): 100%|██████████| 5/5 [01:32<00:00, 18.46s/it]\n"
     ]
    },
    {
     "name": "stdout",
     "output_type": "stream",
     "text": [
      "Epoch [4/10], Training Loss: 0.1008, Training Accuracy: 0.9647, Evaluation Loss: 0.4877, Evaluation Accuracy: 0.8554\n"
     ]
    },
    {
     "name": "stderr",
     "output_type": "stream",
     "text": [
      "Epoch 5/10 (Training): 100%|██████████| 38/38 [32:06<00:00, 50.70s/it]\n",
      "Epoch 5/10 (Evaluation): 100%|██████████| 5/5 [01:44<00:00, 20.99s/it]\n"
     ]
    },
    {
     "name": "stdout",
     "output_type": "stream",
     "text": [
      "Epoch [5/10], Training Loss: 0.0805, Training Accuracy: 0.9786, Evaluation Loss: 0.7865, Evaluation Accuracy: 0.8491\n"
     ]
    },
    {
     "name": "stderr",
     "output_type": "stream",
     "text": [
      "Epoch 6/10 (Training): 100%|██████████| 38/38 [32:09<00:00, 50.76s/it]\n",
      "Epoch 6/10 (Evaluation): 100%|██████████| 5/5 [01:18<00:00, 15.76s/it]\n"
     ]
    },
    {
     "name": "stdout",
     "output_type": "stream",
     "text": [
      "Epoch [6/10], Training Loss: 0.0790, Training Accuracy: 0.9708, Evaluation Loss: 0.5982, Evaluation Accuracy: 0.8268\n"
     ]
    },
    {
     "name": "stderr",
     "output_type": "stream",
     "text": [
      "Epoch 7/10 (Training): 100%|██████████| 38/38 [25:51<00:00, 40.84s/it]\n",
      "Epoch 7/10 (Evaluation): 100%|██████████| 5/5 [01:13<00:00, 14.62s/it]\n"
     ]
    },
    {
     "name": "stdout",
     "output_type": "stream",
     "text": [
      "Epoch [7/10], Training Loss: 0.0939, Training Accuracy: 0.9696, Evaluation Loss: 0.4244, Evaluation Accuracy: 0.8554\n"
     ]
    },
    {
     "name": "stderr",
     "output_type": "stream",
     "text": [
      "Epoch 8/10 (Training): 100%|██████████| 38/38 [20:57<00:00, 33.10s/it]\n",
      "Epoch 8/10 (Evaluation): 100%|██████████| 5/5 [00:39<00:00,  7.94s/it]\n"
     ]
    },
    {
     "name": "stdout",
     "output_type": "stream",
     "text": [
      "Epoch [8/10], Training Loss: 0.0709, Training Accuracy: 0.9811, Evaluation Loss: 0.6461, Evaluation Accuracy: 0.8741\n"
     ]
    },
    {
     "name": "stderr",
     "output_type": "stream",
     "text": [
      "Epoch 9/10 (Training): 100%|██████████| 38/38 [12:03<00:00, 19.03s/it]\n",
      "Epoch 9/10 (Evaluation): 100%|██████████| 5/5 [00:34<00:00,  6.82s/it]\n"
     ]
    },
    {
     "name": "stdout",
     "output_type": "stream",
     "text": [
      "Epoch [9/10], Training Loss: 0.0798, Training Accuracy: 0.9741, Evaluation Loss: 0.7257, Evaluation Accuracy: 0.8054\n"
     ]
    },
    {
     "name": "stderr",
     "output_type": "stream",
     "text": [
      "Epoch 10/10 (Training): 100%|██████████| 38/38 [12:05<00:00, 19.08s/it]\n",
      "Epoch 10/10 (Evaluation): 100%|██████████| 5/5 [00:34<00:00,  6.82s/it]\n"
     ]
    },
    {
     "name": "stdout",
     "output_type": "stream",
     "text": [
      "Epoch [10/10], Training Loss: 0.1348, Training Accuracy: 0.9598, Evaluation Loss: 1.0262, Evaluation Accuracy: 0.7179\n"
     ]
    }
   ],
   "source": [
    "transform = transforms.Compose([\n",
    "    transforms.ToTensor(),\n",
    "    transforms.Resize((224, 224)),\n",
    "    transforms.Normalize(mean=[0.485, 0.456, 0.406], std=[0.229, 0.224, 0.225]),\n",
    "])\n",
    "\n",
    "train_dataset = datasets.ImageFolder(root='./data', transform=transform)\n",
    "train_size = int(0.9 * len(train_dataset))\n",
    "eval_size = len(train_dataset) - train_size\n",
    "train_dataset, eval_dataset = torch.utils.data.random_split(train_dataset, [train_size, eval_size])\n",
    "\n",
    "batch_size = best_params['batch_size']\n",
    "train_loader = DataLoader(train_dataset, batch_size=batch_size, shuffle=True)\n",
    "eval_loader = DataLoader(eval_dataset, batch_size=batch_size, shuffle=False)\n",
    "\n",
    "model = CustomCNN(num_classes=4)\n",
    "criterion = nn.CrossEntropyLoss()\n",
    "optimizer = optim.Adam(model.parameters(), lr=best_params['lr'], weight_decay=best_params['weight_Decay'])\n",
    "\n",
    "num_epochs = 10\n",
    "\n",
    "best_eval_loss = float('inf') \n",
    "training_loss = []\n",
    "training_acc = []\n",
    "evaluation_loss = [] \n",
    "evaluation_acc = [] \n",
    "\n",
    "for epoch in range(num_epochs):\n",
    "    model.train()\n",
    "    train_acc = 0\n",
    "    train_loss = 0\n",
    "\n",
    "    for inputs, labels in tqdm(train_loader, desc=f'Epoch {epoch + 1}/{num_epochs} (Training)'):\n",
    "        optimizer.zero_grad()\n",
    "        outputs = model(inputs)\n",
    "        loss = criterion(outputs, labels)\n",
    "        loss.backward()\n",
    "        optimizer.step()\n",
    "        train_loss += loss.item()\n",
    "        train_acc += (outputs.argmax(dim=1) == labels).float().mean().item()\n",
    "\n",
    "    # Calculate average training loss and accuracy\n",
    "    avg_train_loss = train_loss / len(train_loader)\n",
    "    avg_train_acc = train_acc / len(train_loader)\n",
    "    training_loss.append(avg_train_loss)\n",
    "    training_acc.append(avg_train_acc)\n",
    "\n",
    "    # Evaluation loop\n",
    "    model.eval()\n",
    "    eval_loss = 0\n",
    "    eval_acc = 0\n",
    "\n",
    "    with torch.no_grad():\n",
    "        for inputs, labels in tqdm(eval_loader, desc=f'Epoch {epoch + 1}/{num_epochs} (Evaluation)'):\n",
    "            outputs = model(inputs)\n",
    "            loss = criterion(outputs, labels)\n",
    "            eval_loss += loss.item()\n",
    "            eval_acc += (outputs.argmax(dim=1) == labels).float().mean().item()\n",
    "\n",
    "    # Calculate average evaluation loss and accuracy\n",
    "    avg_eval_loss = eval_loss / len(eval_loader)  \n",
    "    avg_eval_acc = eval_acc / len(eval_loader)  \n",
    "    evaluation_loss.append(avg_eval_loss)  \n",
    "    evaluation_acc.append(avg_eval_acc)  \n",
    "    \n",
    "    # Print and save results\n",
    "    print(f'Epoch [{epoch + 1}/{num_epochs}], '\n",
    "          f'Training Loss: {avg_train_loss:.4f}, Training Accuracy: {avg_train_acc:.4f}, '\n",
    "          f'Evaluation Loss: {avg_eval_loss:.4f}, Evaluation Accuracy: {avg_eval_acc:.4f}')\n",
    "\n",
    "\n",
    "    # Save the model with the lowest evaluation loss\n",
    "    if avg_eval_loss < best_eval_loss:\n",
    "        best_eval_loss = avg_eval_loss\n",
    "        torch.save(model.state_dict(), 'best_model.pth')\n",
    "\n",
    "# Save the trained model\n",
    "torch.save(model.state_dict(), 'final_model.pth')"
   ]
  },
  {
   "cell_type": "markdown",
   "metadata": {},
   "source": [
    "# Plot the curve for eval and train"
   ]
  },
  {
   "cell_type": "code",
   "execution_count": 25,
   "metadata": {},
   "outputs": [
    {
     "data": {
      "image/png": "[encoded data removed]",
      "text/plain": [
       "<Figure size 1200x400 with 2 Axes>"
      ]
     },
     "metadata": {},
     "output_type": "display_data"
    }
   ],
   "source": [
    "plt.figure(figsize=(12, 4))\n",
    "\n",
    "# Subplot for the loss\n",
    "plt.subplot(1, 2, 1)\n",
    "plt.plot(training_loss, label='Training Loss')\n",
    "plt.plot(evaluation_loss, label='Validation Loss')\n",
    "plt.title('Loss Over Time')\n",
    "plt.xlabel('Epochs')\n",
    "plt.ylabel('Loss')\n",
    "plt.legend()\n",
    "\n",
    "# Subplot for the accuracy\n",
    "plt.subplot(1, 2, 2)\n",
    "plt.plot(training_acc, label='Training Accuracy')\n",
    "plt.plot(evaluation_acc, label='Validation Accuracy')\n",
    "plt.title('Accuracy Over Time')\n",
    "plt.xlabel('Epochs')\n",
    "plt.ylabel('Accuracy')\n",
    "plt.legend()\n",
    "\n",
    "# Show the plots\n",
    "plt.tight_layout()\n",
    "plt.show()"
   ]
  },
  {
   "cell_type": "markdown",
   "metadata": {},
   "source": [
    "# Output prediction"
   ]
  },
  {
   "cell_type": "code",
   "execution_count": null,
   "metadata": {},
   "outputs": [],
   "source": [
    "# Load the trained model\n",
    "model = CustomCNN(num_classes=4)\n",
    "model.load_state_dict(torch.load('model.pth'))\n",
    "model.eval()\n",
    "\n",
    "transform = transforms.Compose([\n",
    "    transforms.ToTensor(),\n",
    "    transforms.Resize((224, 224)),\n",
    "    transforms.Normalize(mean=[0.485, 0.456, 0.406], std=[0.229, 0.224, 0.225]),\n",
    "])\n",
    "\n",
    "\n",
    "# Create a list of class names\n",
    "class_names = ['1', '2', '3', '4']\n",
    "\n",
    "# Open the CSV file and write headers\n",
    "with open('predictions.csv', 'w', newline='') as csvfile:\n",
    "    csvwriter = csv.writer(csvfile)\n",
    "    csvwriter.writerow(['id', 'label'])\n",
    "\n",
    "    # Iterate through the test set\n",
    "    for i in range(len(id_predict)):\n",
    "        filename = id_predict.iloc[i]['filename']\n",
    "\n",
    "        # Open the image and apply the transformations\n",
    "        img = Image.open(os.path.join('./photos', filename))\n",
    "        img = transform(img)\n",
    "        img = img.unsqueeze(0)\n",
    "\n",
    "        # Make predictions\n",
    "        with torch.no_grad():\n",
    "            preds = model(img)\n",
    "\n",
    "        # Get the predicted class\n",
    "        class_idx = torch.argmax(preds, dim=1).item()\n",
    "        class_name = class_names[class_idx]\n",
    "\n",
    "        # Write the prediction to the CSV file\n",
    "        csvwriter.writerow([filename_id[filename], class_name])\n"
   ]
  }
 ],
 "metadata": {
  "kernelspec": {
   "display_name": "Python 3 (ipykernel)",
   "language": "python",
   "name": "python3"
  },
  "language_info": {
   "codemirror_mode": {
    "name": "ipython",
    "version": 3
   },
   "file_extension": ".py",
   "mimetype": "text/x-python",
   "name": "python",
   "nbconvert_exporter": "python",
   "pygments_lexer": "ipython3",
   "version": "3.11.3"
  }
 },
 "nbformat": 4,
 "nbformat_minor": 4
}
